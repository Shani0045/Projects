{
 "cells": [
  {
   "cell_type": "code",
   "execution_count": 1,
   "metadata": {},
   "outputs": [],
   "source": [
    "import os\n",
    "import shutil as sh"
   ]
  },
  {
   "cell_type": "code",
   "execution_count": 40,
   "metadata": {},
   "outputs": [],
   "source": [
    "png=[]\n",
    "mp3=[]\n",
    "video=[]\n",
    "for file in os.listdir(\"mix\"):\n",
    "    a=file.split(\".\")[-1]\n",
    "    if a in [\"jpeg\",\"png\",\"jpg\"]:\n",
    "        png.append(file)\n",
    "    elif a==\"mp3\":\n",
    "        mp3.append(file)\n",
    "    elif a==\"mp4\":\n",
    "        video.append(file)\n",
    "        "
   ]
  },
  {
   "cell_type": "code",
   "execution_count": 12,
   "metadata": {},
   "outputs": [
    {
     "data": {
      "text/plain": [
       "['sachine_0_1870.png',\n",
       " 'sachine_0_2018.png',\n",
       " 'sachine_0_2088.png',\n",
       " 'sachine_0_2131.png',\n",
       " 'sachine_0_2470.png',\n",
       " 'sachine_0_2647.png',\n",
       " 'sachine_0_2739.png',\n",
       " 'sachine_0_2767.png',\n",
       " 'sachine_0_3244.png',\n",
       " 'sachine_0_3540.png',\n",
       " 'sachine_0_3605.png',\n",
       " 'sachine_0_3936.png',\n",
       " 'sachine_0_4028.png',\n",
       " 'sachine_0_5045.png',\n",
       " 'sachine_0_5177.png',\n",
       " 'sachine_0_5200.png',\n",
       " 'sachine_0_554.png',\n",
       " 'sachine_0_5588.png',\n",
       " 'sachine_0_5850.png',\n",
       " 'sachine_0_6034.png',\n",
       " 'sachine_0_6096.png',\n",
       " 'sachine_0_6296.png',\n",
       " 'sachine_0_6328.png',\n",
       " 'sachine_0_64.png',\n",
       " 'sachine_0_6968.png',\n",
       " 'sachine_0_6985.png',\n",
       " 'sachine_0_7020.png',\n",
       " 'sachine_0_7184.png',\n",
       " 'sachine_0_7441.png',\n",
       " 'sachine_0_7881.png',\n",
       " 'sachine_0_8091.png',\n",
       " 'sachine_0_8112.png',\n",
       " 'sachine_0_8900.png',\n",
       " 'sachine_0_897.png',\n",
       " 'sachine_0_9233.png',\n",
       " 'sachine_0_9244.png',\n",
       " 'sachine_0_9403.png',\n",
       " 'sachine_0_9680.png',\n",
       " 'sachine_0_9896.png']"
      ]
     },
     "execution_count": 12,
     "metadata": {},
     "output_type": "execute_result"
    }
   ],
   "source": []
  },
  {
   "cell_type": "code",
   "execution_count": 24,
   "metadata": {},
   "outputs": [],
   "source": [
    "image=[]\n",
    "audio=[]\n",
    "video=[]\n",
    "def file_ext(folder_path):\n",
    "    for file in os.listdir(folder_path):\n",
    "        a=file.split(\".\")[-1]\n",
    "        if a in [\"jpeg\",\"png\",\"jpg\"]:\n",
    "            os.mkdir(\"\")\n",
    "        elif a==\"mp3\":\n",
    "            audio.append(file)\n",
    "        elif a==\"mp4\":\n",
    "            video.append(file)\n",
    "    "
   ]
  },
  {
   "cell_type": "code",
   "execution_count": 25,
   "metadata": {},
   "outputs": [],
   "source": [
    "file_ext(\"f:/Project/file\")"
   ]
  },
  {
   "cell_type": "code",
   "execution_count": 26,
   "metadata": {},
   "outputs": [
    {
     "data": {
      "text/plain": [
       "['7.Outlier_Detection_and_Treatment_using_Python_-_Part_1(720p).mp4',\n",
       " '8.Outlier_Detection_and_Treatment_using_Python_-_Part_2(720p).mp4',\n",
       " 'Credit_Card_Fraud_Detection_using_Machine_Learning_from_Kaggle(480p).mp4',\n",
       " 'Credit_Card_Fraud_Detection_using_Machine_Learning_from_Kaggle(720p).mp4',\n",
       " 'Diabetes_Prediction_using_Machine_Learning_from_Kaggle(720p).mp4',\n",
       " 'Dimensional_Reduction__Principal_Component_Analysis(720p).mp4']"
      ]
     },
     "execution_count": 26,
     "metadata": {},
     "output_type": "execute_result"
    }
   ],
   "source": [
    "video"
   ]
  },
  {
   "cell_type": "code",
   "execution_count": 27,
   "metadata": {},
   "outputs": [
    {
     "data": {
      "text/plain": [
       "['Dil Ne Dil Se Ikrar Kiya (Haqeeqat).mp3', 'Ek Ladki Hai (Haqeeqat).mp3']"
      ]
     },
     "execution_count": 27,
     "metadata": {},
     "output_type": "execute_result"
    }
   ],
   "source": [
    "audio"
   ]
  },
  {
   "cell_type": "code",
   "execution_count": 28,
   "metadata": {},
   "outputs": [
    {
     "data": {
      "text/plain": [
       "['1.jpg',\n",
       " '16.png',\n",
       " '17.png',\n",
       " '18.png',\n",
       " '19.png',\n",
       " '2.jpg',\n",
       " '20.png',\n",
       " '21.png',\n",
       " '22.png',\n",
       " '23.png',\n",
       " '24.png',\n",
       " '25.png',\n",
       " '26.png',\n",
       " '27.png',\n",
       " '28.png',\n",
       " '29.png',\n",
       " '30.png',\n",
       " '31.png',\n",
       " '4.jpg']"
      ]
     },
     "execution_count": 28,
     "metadata": {},
     "output_type": "execute_result"
    }
   ],
   "source": [
    "image"
   ]
  },
  {
   "cell_type": "markdown",
   "metadata": {},
   "source": [
    "### extract file form folder and put into seprate folder"
   ]
  },
  {
   "cell_type": "code",
   "execution_count": 6,
   "metadata": {},
   "outputs": [
    {
     "ename": "AttributeError",
     "evalue": "'list' object has no attribute 'split'",
     "output_type": "error",
     "traceback": [
      "\u001b[1;31m---------------------------------------------------------------------------\u001b[0m",
      "\u001b[1;31mAttributeError\u001b[0m                            Traceback (most recent call last)",
      "\u001b[1;32m<ipython-input-6-273ab8c3b017>\u001b[0m in \u001b[0;36m<module>\u001b[1;34m\u001b[0m\n\u001b[0;32m     21\u001b[0m             \u001b[0msh\u001b[0m\u001b[1;33m.\u001b[0m\u001b[0mmove\u001b[0m\u001b[1;33m(\u001b[0m\u001b[0mfolder3\u001b[0m\u001b[1;33m,\u001b[0m\u001b[1;34m\"video\"\u001b[0m\u001b[1;33m)\u001b[0m\u001b[1;33m\u001b[0m\u001b[0m\n\u001b[0;32m     22\u001b[0m \u001b[1;33m\u001b[0m\u001b[0m\n\u001b[1;32m---> 23\u001b[1;33m \u001b[0mfile_extraction\u001b[0m\u001b[1;33m(\u001b[0m\u001b[1;34m\"f:/project/mix\"\u001b[0m\u001b[1;33m)\u001b[0m\u001b[1;33m\u001b[0m\u001b[0m\n\u001b[0m",
      "\u001b[1;32m<ipython-input-6-273ab8c3b017>\u001b[0m in \u001b[0;36mfile_extraction\u001b[1;34m(folder_path)\u001b[0m\n\u001b[0;32m      2\u001b[0m \u001b[1;32mdef\u001b[0m \u001b[0mfile_extraction\u001b[0m\u001b[1;33m(\u001b[0m\u001b[0mfolder_path\u001b[0m\u001b[1;33m)\u001b[0m\u001b[1;33m:\u001b[0m\u001b[1;33m\u001b[0m\u001b[0m\n\u001b[0;32m      3\u001b[0m     \u001b[0mfile\u001b[0m\u001b[1;33m=\u001b[0m\u001b[0mos\u001b[0m\u001b[1;33m.\u001b[0m\u001b[0mlistdir\u001b[0m\u001b[1;33m(\u001b[0m\u001b[0mfolder_path\u001b[0m\u001b[1;33m)\u001b[0m\u001b[1;33m\u001b[0m\u001b[0m\n\u001b[1;32m----> 4\u001b[1;33m     \u001b[0mb\u001b[0m\u001b[1;33m=\u001b[0m\u001b[0mfile\u001b[0m\u001b[1;33m.\u001b[0m\u001b[0msplit\u001b[0m\u001b[1;33m(\u001b[0m\u001b[1;34m\".\"\u001b[0m\u001b[1;33m)\u001b[0m\u001b[1;33m[\u001b[0m\u001b[1;33m-\u001b[0m\u001b[1;36m1\u001b[0m\u001b[1;33m]\u001b[0m\u001b[1;33m\u001b[0m\u001b[0m\n\u001b[0m\u001b[0;32m      5\u001b[0m     \u001b[1;32mif\u001b[0m \u001b[0mb\u001b[0m \u001b[1;32min\u001b[0m \u001b[1;33m[\u001b[0m\u001b[1;34m\"jpeg\"\u001b[0m\u001b[1;33m,\u001b[0m\u001b[1;34m\"png\"\u001b[0m\u001b[1;33m,\u001b[0m\u001b[1;34m\"jpg\"\u001b[0m\u001b[1;33m]\u001b[0m\u001b[1;33m:\u001b[0m\u001b[1;33m\u001b[0m\u001b[0m\n\u001b[0;32m      6\u001b[0m         \u001b[0mos\u001b[0m\u001b[1;33m.\u001b[0m\u001b[0mmkdir\u001b[0m\u001b[1;33m(\u001b[0m\u001b[1;34m\"image1\"\u001b[0m\u001b[1;33m)\u001b[0m\u001b[1;33m\u001b[0m\u001b[0m\n",
      "\u001b[1;31mAttributeError\u001b[0m: 'list' object has no attribute 'split'"
     ]
    }
   ],
   "source": [
    "import os\n",
    "def file_extraction(folder_path):\n",
    "    for file in os.listdir(folder_path):\n",
    "        a=file.split(\".\")[-1]\n",
    "        if a in [\"jpeg\",\"png\",\"jpg\"]:\n",
    "            folder1=os.path.join(\"f:/Project/mix/\",file)\n",
    "            sh.move(folder1,\"image\")\n",
    "        elif a==\"mp3\":\n",
    "            folder2=os.path.join(\"f:/Project/mix/\",file)\n",
    "            sh.move(folder2,\"audio\")\n",
    "        elif a==\"mp4\":\n",
    "            folder3=os.path.join(\"f:/Project/mix/\",file)\n",
    "            sh.move(folder3,\"video\")\n",
    "            \n",
    "file_extraction(\"f:/project/mix\")"
   ]
  },
  {
   "cell_type": "code",
   "execution_count": 46,
   "metadata": {},
   "outputs": [],
   "source": [
    "from tkinter import*\n",
    "root=Tk()\n",
    "root.geometry(\"500x400\")\n",
    "root.mainloop()"
   ]
  },
  {
   "cell_type": "code",
   "execution_count": 22,
   "metadata": {},
   "outputs": [
    {
     "ename": "FileExistsError",
     "evalue": "[WinError 183] Cannot create a file when that file already exists: 'vid0'",
     "output_type": "error",
     "traceback": [
      "\u001b[1;31m---------------------------------------------------------------------------\u001b[0m",
      "\u001b[1;31mFileExistsError\u001b[0m                           Traceback (most recent call last)",
      "\u001b[1;32m<ipython-input-22-fe150b24cab8>\u001b[0m in \u001b[0;36m<module>\u001b[1;34m\u001b[0m\n\u001b[0;32m      8\u001b[0m         \u001b[1;32mcontinue\u001b[0m\u001b[1;33m\u001b[0m\u001b[0m\n\u001b[0;32m      9\u001b[0m     \u001b[1;32melif\u001b[0m \u001b[0ms\u001b[0m\u001b[1;33m==\u001b[0m\u001b[1;34m'mp4'\u001b[0m\u001b[1;33m:\u001b[0m\u001b[1;33m\u001b[0m\u001b[0m\n\u001b[1;32m---> 10\u001b[1;33m         \u001b[0mos\u001b[0m\u001b[1;33m.\u001b[0m\u001b[0mmkdir\u001b[0m\u001b[1;33m(\u001b[0m\u001b[1;34m\"vid0\"\u001b[0m\u001b[1;33m)\u001b[0m\u001b[1;33m\u001b[0m\u001b[0m\n\u001b[0m\u001b[0;32m     11\u001b[0m         \u001b[1;32mcontinue\u001b[0m\u001b[1;33m\u001b[0m\u001b[0m\n\u001b[0;32m     12\u001b[0m     \u001b[1;32melif\u001b[0m \u001b[0ms\u001b[0m\u001b[1;33m==\u001b[0m\u001b[1;34m'doc'\u001b[0m\u001b[1;33m:\u001b[0m\u001b[1;33m\u001b[0m\u001b[0m\n",
      "\u001b[1;31mFileExistsError\u001b[0m: [WinError 183] Cannot create a file when that file already exists: 'vid0'"
     ]
    }
   ],
   "source": [
    "for file in os.listdir(\"mix\"):\n",
    "    s=file.split(\".\")[-1]\n",
    "    if s=='png':\n",
    "        os.mkdir(\"imagess\")\n",
    "    elif s=='mp3':\n",
    "        os.mkdir('audio')\n",
    "        break\n",
    "    elif s=='mp4':\n",
    "        os.mkdir(\"vid\")\n",
    "        break\n",
    "    elif s=='doc':\n",
    "        os.mkdir(\"document\")\n",
    "        break"
   ]
  },
  {
   "cell_type": "code",
   "execution_count": null,
   "metadata": {},
   "outputs": [],
   "source": []
  }
 ],
 "metadata": {
  "kernelspec": {
   "display_name": "Python 3",
   "language": "python",
   "name": "python3"
  },
  "language_info": {
   "codemirror_mode": {
    "name": "ipython",
    "version": 3
   },
   "file_extension": ".py",
   "mimetype": "text/x-python",
   "name": "python",
   "nbconvert_exporter": "python",
   "pygments_lexer": "ipython3",
   "version": "3.6.5"
  }
 },
 "nbformat": 4,
 "nbformat_minor": 2
}
