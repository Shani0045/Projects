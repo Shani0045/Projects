{
 "cells": [
  {
   "cell_type": "code",
   "execution_count": null,
   "metadata": {},
   "outputs": [
    {
     "name": "stderr",
     "output_type": "stream",
     "text": [
      "c:\\users\\hp\\appdata\\local\\programs\\python\\python36\\lib\\site-packages\\sklearn\\externals\\joblib\\__init__.py:15: FutureWarning: sklearn.externals.joblib is deprecated in 0.21 and will be removed in 0.23. Please import this functionality directly from joblib, which can be installed with: pip install joblib. If this warning is raised when loading pickled models, you may need to re-serialize those models with scikit-learn 0.21+.\n",
      "  warnings.warn(msg, category=FutureWarning)\n"
     ]
    },
    {
     "name": "stdout",
     "output_type": "stream",
     "text": [
      " * Serving Flask app \"__main__\" (lazy loading)\n",
      " * Environment: production\n",
      "   WARNING: This is a development server. Do not use it in a production deployment.\n",
      "   Use a production WSGI server instead.\n",
      " * Debug mode: off\n"
     ]
    },
    {
     "name": "stderr",
     "output_type": "stream",
     "text": [
      " * Running on http://127.0.0.1:5000/ (Press CTRL+C to quit)\n",
      "127.0.0.1 - - [13/Oct/2020 17:50:09] \"\u001b[37mGET / HTTP/1.1\u001b[0m\" 200 -\n",
      "127.0.0.1 - - [13/Oct/2020 17:50:47] \"\u001b[37mPOST /predict HTTP/1.1\u001b[0m\" 200 -\n",
      "127.0.0.1 - - [13/Oct/2020 17:50:56] \"\u001b[37mPOST /predict HTTP/1.1\u001b[0m\" 200 -\n",
      "127.0.0.1 - - [13/Oct/2020 17:51:08] \"\u001b[37mPOST /predict HTTP/1.1\u001b[0m\" 200 -\n"
     ]
    }
   ],
   "source": [
    "from flask import*\n",
    "from warnings import filterwarnings\n",
    "from sklearn.externals import joblib\n",
    "import re\n",
    "import nltk\n",
    "from nltk.corpus import stopwords\n",
    "from nltk.stem.porter import PorterStemmer\n",
    "app=Flask(__name__)\n",
    "@app.route(\"/\")\n",
    "def home():\n",
    "    return render_template(\"review.html\")\n",
    "\n",
    "@app.route(\"/predict\",methods=[\"POST\"])\n",
    "def predict():\n",
    "    filterwarnings(\"ignore\")\n",
    "    model=joblib.load(\"review.pkl\")\n",
    "    cv=joblib.load(\"cv.pkl\")\n",
    "    a=request.form['inp']\n",
    "\n",
    "    def clean_text(txt):\n",
    "        global stopwords\n",
    "        ps=PorterStemmer()\n",
    "        stopword=[i for i in set(stopwords.words(\"english\")) if i not in [\"not\",\"Not\",\"no\",\"No\",\"Nor\",\"nor\"]]\n",
    "        corpus1=[]\n",
    "        review=re.sub('[^a-zA-Z]',\" \",txt)\n",
    "        exp=review.lower()\n",
    "        exp=exp.split()\n",
    "        exp=[ps.stem(w) for w in exp if w not in set(stopword)]\n",
    "        exp=\" \".join(exp)\n",
    "        corpus1.append(exp)\n",
    "        txt=cv.transform(corpus1).toarray()\n",
    "        return txt\n",
    "\n",
    "\n",
    "    def predict(txt):\n",
    "        prediction=model.predict(txt)\n",
    "        if prediction[0]==1:\n",
    "            return \"like\"\n",
    "        else:\n",
    "            return \"dislike\"\n",
    "    txt=clean_text(a)\n",
    "    text=predict(txt)\n",
    "    return render_template(\"review.html\",p=f\"Prediction of the review : {text}\")\n",
    "    \n",
    "    \n",
    "if __name__==\"__main__\":\n",
    "    app.run()"
   ]
  },
  {
   "cell_type": "code",
   "execution_count": null,
   "metadata": {},
   "outputs": [],
   "source": []
  },
  {
   "cell_type": "code",
   "execution_count": null,
   "metadata": {},
   "outputs": [],
   "source": []
  }
 ],
 "metadata": {
  "kernelspec": {
   "display_name": "Python 3",
   "language": "python",
   "name": "python3"
  },
  "language_info": {
   "codemirror_mode": {
    "name": "ipython",
    "version": 3
   },
   "file_extension": ".py",
   "mimetype": "text/x-python",
   "name": "python",
   "nbconvert_exporter": "python",
   "pygments_lexer": "ipython3",
   "version": "3.6.5"
  }
 },
 "nbformat": 4,
 "nbformat_minor": 2
}
